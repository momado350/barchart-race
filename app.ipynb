import matplotlib.pyplot as plt
import pandas as pd
from matplotlib.animation import FuncAnimation

# Step 1: Prepare Data
# Assume you have a DataFrame called 'df' with columns 'Category', 'Value', and 'Year'

# Step 2: Install Dependencies
# No installation needed if you already have Matplotlib, Pandas, and NumPy installed

# Step 3: Import Libraries
# Already included in the example

# Step 4: Create Bar Chart
fig, ax = plt.subplots(figsize=(8, 6))

# Sort data by the initial year or value, if needed
df_initial = df[df['Year'] == df['Year'].min()]
df_initial = df_initial.sort_values('Value', ascending=False)

# Create horizontal bar chart for the initial year
bars = ax.barh(df_initial['Category'], df_initial['Value'], color='skyblue')

# Step 5: Update Animation
def update(year):
    # Filter data for the current year
    df_current = df[df['Year'] == year]
    df_current = df_current.sort_values('Value', ascending=False)

    # Update the heights of the bars to reflect the current year's values
    for i, bar in enumerate(bars):
        bar.set_width(df_current.iloc[i]['Value'])

    # Set title to display the current year
    ax.set_title(f'Bar Chart Race: Year {year}', fontsize=16)

# Step 6: Add Animation
animation = FuncAnimation(fig, update, frames=df['Year'].unique(), interval=1000)

# Step 7: Customize Appearance
ax.set_xlabel('Value')
ax.set_ylabel('Category')
ax.set_xlim(0, df['Value'].max())  #
